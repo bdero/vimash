{
 "cells": [
  {
   "cell_type": "code",
   "execution_count": 1,
   "metadata": {
    "collapsed": false
   },
   "outputs": [],
   "source": [
    "import yaml\n",
    "\n",
    "from googleapiclient.discovery import build\n",
    "from googleapiclient.errors import HttpError"
   ]
  },
  {
   "cell_type": "code",
   "execution_count": 2,
   "metadata": {
    "collapsed": false
   },
   "outputs": [],
   "source": [
    "with open('../config.yml') as f:\n",
    "    config = yaml.load(f)"
   ]
  },
  {
   "cell_type": "code",
   "execution_count": 3,
   "metadata": {
    "collapsed": false
   },
   "outputs": [],
   "source": [
    "youtube = build('youtube', 'v3', developerKey=config['DEVELOPER_KEY'])"
   ]
  },
  {
   "cell_type": "code",
   "execution_count": 4,
   "metadata": {
    "collapsed": false
   },
   "outputs": [],
   "source": [
    "response = youtube.search().list(\n",
    "    q='webdriver torso',\n",
    "    type='video',\n",
    "    part='id,snippet',\n",
    "    maxResults=3\n",
    ").execute()"
   ]
  },
  {
   "cell_type": "code",
   "execution_count": 5,
   "metadata": {
    "collapsed": false
   },
   "outputs": [
    {
     "data": {
      "text/plain": [
       "{u'etag': u'\"Y3xTLFF3RLtHXX85JBgzzgp2Enw/gOU-G_Pw39VY42hfNrZV30g0OFk\"',\n",
       " u'items': [{u'etag': u'\"Y3xTLFF3RLtHXX85JBgzzgp2Enw/SfbLWwfKQp49skBA3AcsRRsHxbI\"',\n",
       "   u'id': {u'kind': u'youtube#video', u'videoId': u'CMWFPHN2RB8'},\n",
       "   u'kind': u'youtube#searchResult',\n",
       "   u'snippet': {u'channelId': u'UCS7-srn4oSGubaIalO2vdPA',\n",
       "    u'channelTitle': u'ElementNiine',\n",
       "    u'description': u'Updated description: Since people still believe that this over 1 year \"mystery\" isn\\'t solved, I\\'ll paste some of BBC\\'s article about Webdriver Torso here. The proof ...',\n",
       "    u'liveBroadcastContent': u'none',\n",
       "    u'publishedAt': u'2014-05-21T12:43:46.000Z',\n",
       "    u'thumbnails': {u'default': {u'url': u'https://i.ytimg.com/vi/CMWFPHN2RB8/default.jpg'},\n",
       "     u'high': {u'url': u'https://i.ytimg.com/vi/CMWFPHN2RB8/hqdefault.jpg'},\n",
       "     u'medium': {u'url': u'https://i.ytimg.com/vi/CMWFPHN2RB8/mqdefault.jpg'}},\n",
       "    u'title': u'Webdriver Torso Mystery - Solved'}},\n",
       "  {u'etag': u'\"Y3xTLFF3RLtHXX85JBgzzgp2Enw/qi9V-C7b41Ht03ZeibVPP5dw6_g\"',\n",
       "   u'id': {u'kind': u'youtube#video', u'videoId': u'St7D79dqx1c'},\n",
       "   u'kind': u'youtube#searchResult',\n",
       "   u'snippet': {u'channelId': u'UCZdyyMmPhrOD6OSOSNCkziw',\n",
       "    u'channelTitle': u'TheOfficialJesusC',\n",
       "    u'description': u'Google is behind the infamous webdriver torso account!! Uploads are part of a quality control scheme... Next: The explaination behind cicada 3301! :D.',\n",
       "    u'liveBroadcastContent': u'none',\n",
       "    u'publishedAt': u'2014-06-15T15:44:18.000Z',\n",
       "    u'thumbnails': {u'default': {u'url': u'https://i.ytimg.com/vi/St7D79dqx1c/default.jpg'},\n",
       "     u'high': {u'url': u'https://i.ytimg.com/vi/St7D79dqx1c/hqdefault.jpg'},\n",
       "     u'medium': {u'url': u'https://i.ytimg.com/vi/St7D79dqx1c/mqdefault.jpg'}},\n",
       "    u'title': u'WEBRIVER TORSO VIDEOS UPLOADED BY GOOGLE!! - WebDriver Torso Mystery Explained'}},\n",
       "  {u'etag': u'\"Y3xTLFF3RLtHXX85JBgzzgp2Enw/pIn781YB6pGSl8FAeAKwiAH6e-c\"',\n",
       "   u'id': {u'kind': u'youtube#video', u'videoId': u'xAHpVWDTUQc'},\n",
       "   u'kind': u'youtube#searchResult',\n",
       "   u'snippet': {u'channelId': u'UCfZ6GJOa3VUlQ4qN_VICVzg',\n",
       "    u'channelTitle': u'asda16432',\n",
       "    u'description': u'Solved the mystery of those weird videos with blue and red rectangles and apparently random audio tones.',\n",
       "    u'liveBroadcastContent': u'none',\n",
       "    u'publishedAt': u'2014-05-02T12:34:00.000Z',\n",
       "    u'thumbnails': {u'default': {u'url': u'https://i.ytimg.com/vi/xAHpVWDTUQc/default.jpg'},\n",
       "     u'high': {u'url': u'https://i.ytimg.com/vi/xAHpVWDTUQc/hqdefault.jpg'},\n",
       "     u'medium': {u'url': u'https://i.ytimg.com/vi/xAHpVWDTUQc/mqdefault.jpg'}},\n",
       "    u'title': u'Webdriver Torso videos explained'}}],\n",
       " u'kind': u'youtube#searchListResponse',\n",
       " u'nextPageToken': u'CAMQAA',\n",
       " u'pageInfo': {u'resultsPerPage': 3, u'totalResults': 23620}}"
      ]
     },
     "execution_count": 5,
     "metadata": {},
     "output_type": "execute_result"
    }
   ],
   "source": [
    "response"
   ]
  },
  {
   "cell_type": "code",
   "execution_count": 6,
   "metadata": {
    "collapsed": false
   },
   "outputs": [],
   "source": [
    "# Serialize the structure with PyYAML\n",
    "with open(\"cache_test.yml\", 'w') as f:\n",
    "    f.write(yaml.dump(response))"
   ]
  },
  {
   "cell_type": "code",
   "execution_count": 7,
   "metadata": {
    "collapsed": false
   },
   "outputs": [],
   "source": [
    "# Deserialize the same structure\n",
    "with open(\"cache_test.yml\") as f:\n",
    "    deserialized = yaml.load(f)"
   ]
  },
  {
   "cell_type": "code",
   "execution_count": 8,
   "metadata": {
    "collapsed": false
   },
   "outputs": [],
   "source": [
    "# For deep equality testing of the original and deserialized structures:\n",
    "#   https://gist.github.com/samuraisam/901117\n",
    "\n",
    "#Copyright (c) 2010-2013 Samuel Sutch [samuel.sutch@gmail.com]\n",
    "#\n",
    "#Permission is hereby granted, free of charge, to any person obtaining a copy\n",
    "#of this software and associated documentation files (the \"Software\"), to deal\n",
    "#in the Software without restriction, including without limitation the rights\n",
    "#to use, copy, modify, merge, publish, distribute, sublicense, and/or sell\n",
    "#copies of the Software, and to permit persons to whom the Software is\n",
    "#furnished to do so, subject to the following conditions:\n",
    "#\n",
    "#The above copyright notice and this permission notice shall be included in\n",
    "#all copies or substantial portions of the Software.\n",
    "\n",
    "import datetime, time, functools, operator, types\n",
    "\n",
    "default_fudge = datetime.timedelta(seconds=0, microseconds=0, days=0)\n",
    "\n",
    "def deep_eq(_v1, _v2, datetime_fudge=default_fudge, _assert=False):\n",
    "  _deep_eq = functools.partial(deep_eq, datetime_fudge=datetime_fudge, \n",
    "                               _assert=_assert)\n",
    "  \n",
    "  def _check_assert(R, a, b, reason=''):\n",
    "    if _assert and not R:\n",
    "      assert 0, \"an assertion has failed in deep_eq (%s) %s != %s\" % (\n",
    "        reason, str(a), str(b))\n",
    "    return R\n",
    "  \n",
    "  def _deep_dict_eq(d1, d2):\n",
    "    k1, k2 = (sorted(d1.keys()), sorted(d2.keys()))\n",
    "    if k1 != k2: # keys should be exactly equal\n",
    "      return _check_assert(False, k1, k2, \"keys\")\n",
    "    \n",
    "    return _check_assert(operator.eq(sum(_deep_eq(d1[k], d2[k]) \n",
    "                                       for k in k1), \n",
    "                                     len(k1)), d1, d2, \"dictionaries\")\n",
    "  \n",
    "  def _deep_iter_eq(l1, l2):\n",
    "    if len(l1) != len(l2):\n",
    "      return _check_assert(False, l1, l2, \"lengths\")\n",
    "    return _check_assert(operator.eq(sum(_deep_eq(v1, v2) \n",
    "                                      for v1, v2 in zip(l1, l2)), \n",
    "                                     len(l1)), l1, l2, \"iterables\")\n",
    "  \n",
    "  def op(a, b):\n",
    "    _op = operator.eq\n",
    "    if type(a) == datetime.datetime and type(b) == datetime.datetime:\n",
    "      s = datetime_fudge.seconds\n",
    "      t1, t2 = (time.mktime(a.timetuple()), time.mktime(b.timetuple()))\n",
    "      l = t1 - t2\n",
    "      l = -l if l > 0 else l\n",
    "      return _check_assert((-s if s > 0 else s) <= l, a, b, \"dates\")\n",
    "    return _check_assert(_op(a, b), a, b, \"values\")\n",
    " \n",
    "  c1, c2 = (_v1, _v2)\n",
    "  \n",
    "  # guard against strings because they are iterable and their\n",
    "  # elements yield iterables infinitely. \n",
    "  # I N C E P T I O N\n",
    "  for t in types.StringTypes:\n",
    "    if isinstance(_v1, t):\n",
    "      break\n",
    "  else:\n",
    "    if isinstance(_v1, types.DictType):\n",
    "      op = _deep_dict_eq\n",
    "    else:\n",
    "      try:\n",
    "        c1, c2 = (list(iter(_v1)), list(iter(_v2)))\n",
    "      except TypeError:\n",
    "        c1, c2 = _v1, _v2\n",
    "      else:\n",
    "        op = _deep_iter_eq\n",
    "  \n",
    "  return op(c1, c2)"
   ]
  },
  {
   "cell_type": "code",
   "execution_count": 9,
   "metadata": {
    "collapsed": false
   },
   "outputs": [
    {
     "data": {
      "text/plain": [
       "True"
      ]
     },
     "execution_count": 9,
     "metadata": {},
     "output_type": "execute_result"
    }
   ],
   "source": [
    "# Now do a deep comparison to prove that caching results with\n",
    "# PyYAML won't mess things up\n",
    "deep_eq(response, deserialized)"
   ]
  },
  {
   "cell_type": "code",
   "execution_count": null,
   "metadata": {
    "collapsed": true
   },
   "outputs": [],
   "source": []
  }
 ],
 "metadata": {
  "kernelspec": {
   "display_name": "Python 2",
   "language": "python",
   "name": "python2"
  },
  "language_info": {
   "codemirror_mode": {
    "name": "ipython",
    "version": 2
   },
   "file_extension": ".py",
   "mimetype": "text/x-python",
   "name": "python",
   "nbconvert_exporter": "python",
   "pygments_lexer": "ipython2",
   "version": "2.7.10"
  }
 },
 "nbformat": 4,
 "nbformat_minor": 0
}
